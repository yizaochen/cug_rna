{
 "cells": [
  {
   "cell_type": "markdown",
   "id": "7685e0a3-4632-4e6b-8397-c134ce859b84",
   "metadata": {},
   "source": [
    "### Remove pbc for gro files"
   ]
  },
  {
   "cell_type": "code",
   "execution_count": 4,
   "id": "d0130604-81ab-4242-a933-56755d2a7205",
   "metadata": {},
   "outputs": [
    {
     "name": "stdout",
     "output_type": "stream",
     "text": [
      "gmx trjconv -s em2.gro -f em2.gro -o em2.nopbc.gro -center -pbc res -ur compact\n",
      "gmx trjconv -s nvt1.gro -f nvt1.gro -o nvt1.nopbc.gro -center -pbc res -ur compact\n",
      "gmx trjconv -s nvt2.gro -f nvt2.gro -o nvt2.nopbc.gro -center -pbc res -ur compact\n",
      "gmx trjconv -s npt1.gro -f npt1.gro -o npt1.nopbc.gro -center -pbc res -ur compact\n",
      "gmx trjconv -s npt2.gro -f npt2.gro -o npt2.nopbc.gro -center -pbc res -ur compact\n",
      "gmx trjconv -s npt3.gro -f npt3.gro -o npt3.nopbc.gro -center -pbc res -ur compact\n",
      "gmx trjconv -s npt4.gro -f npt4.gro -o npt4.nopbc.gro -center -pbc res -ur compact\n",
      "gmx trjconv -s md0.gro -f md0.gro -o md0.nopbc.gro -center -pbc res -ur compact\n",
      "gmx trjconv -s md1.gro -f md1.gro -o md1.nopbc.gro -center -pbc res -ur compact\n",
      "gmx trjconv -s md2.gro -f md2.gro -o md2.nopbc.gro -center -pbc res -ur compact\n"
     ]
    }
   ],
   "source": [
    "system_name_lst = ['em2', 'nvt1', 'nvt2', 'npt1', 'npt2', 'npt3', 'npt4', 'md0', 'md1', 'md2']\n",
    "\n",
    "for system_name in system_name_lst:\n",
    "    print(f'gmx trjconv -s {system_name}.gro -f {system_name}.gro -o {system_name}.nopbc.gro -center -pbc res -ur compact')"
   ]
  },
  {
   "cell_type": "code",
   "execution_count": 5,
   "id": "b6853bae-67c5-4d56-a96c-2cfc3a7bca78",
   "metadata": {},
   "outputs": [
    {
     "name": "stdout",
     "output_type": "stream",
     "text": [
      "vmd -gro em2.nopbc.gro\n",
      "vmd -gro nvt1.nopbc.gro\n",
      "vmd -gro nvt2.nopbc.gro\n",
      "vmd -gro npt1.nopbc.gro\n",
      "vmd -gro npt2.nopbc.gro\n",
      "vmd -gro npt3.nopbc.gro\n",
      "vmd -gro npt4.nopbc.gro\n",
      "vmd -gro md0.nopbc.gro\n",
      "vmd -gro md1.nopbc.gro\n",
      "vmd -gro md2.nopbc.gro\n"
     ]
    }
   ],
   "source": [
    "system_name_lst = ['em2', 'nvt1', 'nvt2', 'npt1', 'npt2', 'npt3', 'npt4', 'md0', 'md1', 'md2']\n",
    "\n",
    "for system_name in system_name_lst:\n",
    "    print(f'vmd -gro {system_name}.nopbc.gro')"
   ]
  },
  {
   "cell_type": "markdown",
   "id": "a902fa5d-bfda-4c50-8b1c-ec0c1e34f3d5",
   "metadata": {},
   "source": [
    "### Make Index File"
   ]
  },
  {
   "cell_type": "code",
   "execution_count": 9,
   "id": "e18fcc69-351c-47cd-823a-7f87d8c67396",
   "metadata": {},
   "outputs": [
    {
     "name": "stdout",
     "output_type": "stream",
     "text": [
      "gmx make_ndx -f em2.gro -o rna_bp1_bp2_bp3.ndx.ndx\n",
      "------------------------------------------\n",
      "a 90-119 | a 690-719\n",
      "name 17 bp1\n",
      "1 & r 7\n",
      "name 18 bp2\n",
      "a 280-309 | a 500-529\n",
      "name 19 bp3\n",
      "q\n"
     ]
    }
   ],
   "source": [
    "ndx_file = 'rna_bp1_bp2_bp3.ndx'\n",
    "print(f'gmx make_ndx -f em2.gro -o {ndx_file}.ndx')\n",
    "print('------------------------------------------')\n",
    "print('a 90-119 | a 690-719')\n",
    "print('name 17 bp1')\n",
    "print('1 & r 7')\n",
    "print('name 18 bp2')\n",
    "print('a 280-309 | a 500-529')\n",
    "print('name 19 bp3')\n",
    "print('q')"
   ]
  },
  {
   "cell_type": "markdown",
   "id": "3a66723e-a92c-4e47-9698-866115430d12",
   "metadata": {},
   "source": [
    "#### Check bp1 bp2 bp3"
   ]
  },
  {
   "cell_type": "code",
   "execution_count": 8,
   "id": "50b40fbd-a91c-4fdd-8a9f-78e66baa1854",
   "metadata": {},
   "outputs": [
    {
     "name": "stdout",
     "output_type": "stream",
     "text": [
      "echo 17 | gmx editconf -f em2.nopbc.gro -o fit_bp1/bp1.gro -n rna_bp1_bp2_bp3.ndx\n",
      "vmd -gro fit_bp1/bp1.gro\n",
      "echo 18 | gmx editconf -f em2.nopbc.gro -o fit_bp2/bp2.gro -n rna_bp1_bp2_bp3.ndx\n",
      "vmd -gro fit_bp2/bp2.gro\n",
      "echo 19 | gmx editconf -f em2.nopbc.gro -o fit_bp3/bp3.gro -n rna_bp1_bp2_bp3.ndx\n",
      "vmd -gro fit_bp3/bp3.gro\n"
     ]
    }
   ],
   "source": [
    "ndx_file = 'rna_bp1_bp2_bp3.ndx'\n",
    "for bp, idx in zip(['bp1', 'bp2', 'bp3'], [17, 18, 19]):\n",
    "    print(f'echo {idx} | gmx editconf -f em2.nopbc.gro -o fit_{bp}/{bp}.gro -n {ndx_file}')\n",
    "    print(f'vmd -gro fit_{bp}/{bp}.gro')"
   ]
  },
  {
   "cell_type": "markdown",
   "id": "18047048-be8e-4bdf-adaf-6830b92bcf5a",
   "metadata": {},
   "source": [
    "### Equilibration: Process Raw xtc"
   ]
  },
  {
   "cell_type": "code",
   "execution_count": 13,
   "id": "985aec74-e382-48dc-8198-06b38a1d831e",
   "metadata": {},
   "outputs": [
    {
     "name": "stdout",
     "output_type": "stream",
     "text": [
      "gmx trjconv -s npt3.tpr -f npt3.xtc -o npt3.nopbc.1.xtc -pbc whole -center\n",
      "gmx trjconv -s npt3.tpr -f npt3.nopbc.1.xtc -o npt3.nopbc.2.xtc -pbc res -center -ur compact\n",
      "gmx trjconv -s npt3.tpr -f npt3.nopbc.2.xtc -o npt3.nopbc.3.xtc -pbc mol -center -ur compact\n",
      "echo 17 0 | gmx trjconv -s em2.nopbc.gro -f npt3.nopbc.3.xtc -o ./fit_bp1/npt3.nopbc.3.fit.bp1.xtc -fit rot+trans -n rna_bp1_bp2_bp3.ndx\n",
      "vmd -gro em2.nopbc.gro ./fit_bp1/npt3.nopbc.3.fit.bp1.xtc\n",
      "echo 18 0 | gmx trjconv -s em2.nopbc.gro -f npt3.nopbc.3.xtc -o ./fit_bp2/npt3.nopbc.3.fit.bp2.xtc -fit rot+trans -n rna_bp1_bp2_bp3.ndx\n",
      "vmd -gro em2.nopbc.gro ./fit_bp2/npt3.nopbc.3.fit.bp2.xtc\n",
      "echo 19 0 | gmx trjconv -s em2.nopbc.gro -f npt3.nopbc.3.xtc -o ./fit_bp3/npt3.nopbc.3.fit.bp3.xtc -fit rot+trans -n rna_bp1_bp2_bp3.ndx\n",
      "vmd -gro em2.nopbc.gro ./fit_bp3/npt3.nopbc.3.fit.bp3.xtc\n"
     ]
    }
   ],
   "source": [
    "md_name = 'npt3'  #'em2', 'nvt1', 'nvt2', 'npt1', 'npt2', 'npt3', 'npt4'\n",
    "ref_gro = 'em2.nopbc.gro'\n",
    "ndx_file = 'rna_bp1_bp2_bp3.ndx'\n",
    "\n",
    "print(f'gmx trjconv -s {md_name}.tpr -f {md_name}.xtc -o {md_name}.nopbc.1.xtc -pbc whole -center')\n",
    "print(f'gmx trjconv -s {md_name}.tpr -f {md_name}.nopbc.1.xtc -o {md_name}.nopbc.2.xtc -pbc res -center -ur compact')\n",
    "print(f'gmx trjconv -s {md_name}.tpr -f {md_name}.nopbc.2.xtc -o {md_name}.nopbc.3.xtc -pbc mol -center -ur compact')\n",
    "\n",
    "for bp, idx in zip(['bp1', 'bp2', 'bp3'], [17, 18, 19]):\n",
    "    print(f'echo {idx} 0 | gmx trjconv -s {ref_gro} -f {md_name}.nopbc.3.xtc -o ./fit_{bp}/{md_name}.nopbc.3.fit.{bp}.xtc -fit rot+trans -n {ndx_file}')\n",
    "    print(f'vmd -gro {ref_gro} ./fit_{bp}/{md_name}.nopbc.3.fit.{bp}.xtc')"
   ]
  },
  {
   "cell_type": "code",
   "execution_count": 11,
   "id": "c1911724-5728-4611-9bfd-83fdbacbe3fb",
   "metadata": {},
   "outputs": [
    {
     "name": "stdout",
     "output_type": "stream",
     "text": [
      "mol delrep 0 0\n",
      "mol color Name\n",
      "mol representation Licorice 0.100000 12.000000 12.000000\n",
      "mol selection (resid 7 and nucleic)\n",
      "mol material AOChalky\n",
      "mol addrep 0\n",
      "mol color Name\n",
      "mol representation CPK 1.000000 0.300000 12.000000 12.000000\n",
      "mol selection same resid as (waters within 3 of (resid 7 and nucleic))\n",
      "mol material AOChalky\n",
      "mol addrep 0\n",
      "mol color Name\n",
      "mol representation CPK 1.000000 0.300000 12.000000 12.000000\n",
      "mol selection (resname CRW) and (within 3 of (resid 7 and nucleic))\n",
      "mol material AOChalky\n",
      "mol addrep 0\n",
      "mol selupdate 1 0 1\n",
      "mol selupdate 2 0 1\n",
      "display resetview\n"
     ]
    }
   ],
   "source": [
    "d_sele = {'bp1': '(resid 4 and nucleic and fragment 0) or (resid 10 and nucleic and fragment 1)',\n",
    "          'bp2': '(resid 7 and nucleic)',\n",
    "          'bp3': '(resid 10 and nucleic and fragment 0) or (resid 4 and nucleic and fragment 1)'}\n",
    "\n",
    "draw_bp = 'bp2' # bp1, bp2, bp3\n",
    "\n",
    "print('mol delrep 0 0')\n",
    "print('mol color Name')\n",
    "print('mol representation Licorice 0.100000 12.000000 12.000000')\n",
    "print(f'mol selection {d_sele[draw_bp]}')\n",
    "print('mol material AOChalky')\n",
    "print('mol addrep 0')\n",
    "\n",
    "print('mol color Name')\n",
    "print('mol representation CPK 1.000000 0.300000 12.000000 12.000000')\n",
    "print(f'mol selection same resid as (waters within 3 of {d_sele[draw_bp]})')\n",
    "print('mol material AOChalky')\n",
    "print('mol addrep 0')\n",
    "\n",
    "print('mol color Name')\n",
    "print('mol representation CPK 1.000000 0.300000 12.000000 12.000000')\n",
    "print(f'mol selection (resname CRW) and (within 3 of {d_sele[draw_bp]})')\n",
    "print('mol material AOChalky')\n",
    "print('mol addrep 0')\n",
    "\n",
    "print('mol selupdate 1 0 1')\n",
    "print('mol selupdate 2 0 1')\n",
    "\n",
    "print('display resetview')"
   ]
  },
  {
   "cell_type": "markdown",
   "id": "c8a01e31-6862-49a7-899d-51458ad51a5a",
   "metadata": {},
   "source": [
    "### Production Run: Process Raw xtc"
   ]
  },
  {
   "cell_type": "code",
   "execution_count": 5,
   "id": "09d39680-d2b9-4fb9-8334-c9d37b27a9d0",
   "metadata": {},
   "outputs": [
    {
     "name": "stdout",
     "output_type": "stream",
     "text": [
      "gmx trjconv -s md0.tpr -f md0.xtc -o md0.nopbc.1.xtc -pbc whole\n",
      "gmx trjconv -s md0.tpr -f md0.nopbc.1.xtc -o md0.nopbc.2.xtc -pbc nojump\n",
      "gmx trjconv -s md0.tpr -f md0.nopbc.2.xtc -o md0.nopbc.3.xtc -pbc res -center -ur compact\n",
      "gmx trjcat -f md0.nopbc.3.xtc -o md0.nopbc.3.dt100.xtc -dt 100\n",
      "-----------------------check--------------------------\n",
      "\n",
      "echo 17 0 | gmx trjconv -s em2.nopbc.gro -f md0.nopbc.3.dt100.xtc -o ./fit_bp1/md0.nopbc.3.dt100.fit.bp1.xtc -fit rot+trans -n rna_bp1_bp2_bp3.ndx\n",
      "vmd -gro em2.nopbc.gro ./fit_bp1/md0.nopbc.3.dt100.fit.bp1.xtc\n",
      "echo 18 0 | gmx trjconv -s em2.nopbc.gro -f md0.nopbc.3.dt100.xtc -o ./fit_bp2/md0.nopbc.3.dt100.fit.bp2.xtc -fit rot+trans -n rna_bp1_bp2_bp3.ndx\n",
      "vmd -gro em2.nopbc.gro ./fit_bp2/md0.nopbc.3.dt100.fit.bp2.xtc\n",
      "echo 19 0 | gmx trjconv -s em2.nopbc.gro -f md0.nopbc.3.dt100.xtc -o ./fit_bp3/md0.nopbc.3.dt100.fit.bp3.xtc -fit rot+trans -n rna_bp1_bp2_bp3.ndx\n",
      "vmd -gro em2.nopbc.gro ./fit_bp3/md0.nopbc.3.dt100.fit.bp3.xtc\n"
     ]
    }
   ],
   "source": [
    "md_name = 'md0'\n",
    "ref_gro = 'em2.nopbc.gro'\n",
    "ndx_file = 'rna_bp1_bp2_bp3.ndx'\n",
    "\n",
    "print(f'gmx trjconv -s {md_name}.tpr -f {md_name}.xtc -o {md_name}.nopbc.1.xtc -pbc whole')\n",
    "print(f'gmx trjconv -s {md_name}.tpr -f {md_name}.nopbc.1.xtc -o {md_name}.nopbc.2.xtc -pbc nojump')\n",
    "print(f'gmx trjconv -s {md_name}.tpr -f {md_name}.nopbc.2.xtc -o {md_name}.nopbc.3.xtc -pbc res -center -ur compact')\n",
    "print(f'gmx trjcat -f {md_name}.nopbc.3.xtc -o {md_name}.nopbc.3.dt100.xtc -dt 100')\n",
    "print('-----------------------check--------------------------')\n",
    "print('')\n",
    "\n",
    "for bp, idx in zip(['bp1', 'bp2', 'bp3'], [17, 18, 19]):\n",
    "    print(f'echo {idx} 0 | gmx trjconv -s {ref_gro} -f {md_name}.nopbc.3.dt100.xtc -o ./fit_{bp}/{md_name}.nopbc.3.dt100.fit.{bp}.xtc -fit rot+trans -n {ndx_file}')\n",
    "    print(f'vmd -gro {ref_gro} ./fit_{bp}/{md_name}.nopbc.3.dt100.fit.{bp}.xtc')"
   ]
  },
  {
   "cell_type": "code",
   "execution_count": 6,
   "id": "695b696f-f65f-4e08-923a-c40fcb0fc648",
   "metadata": {},
   "outputs": [
    {
     "name": "stdout",
     "output_type": "stream",
     "text": [
      "mol delrep 0 0\n",
      "mol color Name\n",
      "mol representation Licorice 0.100000 12.000000 12.000000\n",
      "mol selection (resid 4 and nucleic and fragment 0) or (resid 10 and nucleic and fragment 1)\n",
      "mol material AOChalky\n",
      "mol addrep 0\n",
      "mol color Name\n",
      "mol representation CPK 1.000000 0.300000 12.000000 12.000000\n",
      "mol selection same resid as (waters within 3 of (resid 4 and nucleic and fragment 0) or (resid 10 and nucleic and fragment 1))\n",
      "mol material AOChalky\n",
      "mol addrep 0\n",
      "mol color Name\n",
      "mol representation CPK 1.000000 0.300000 12.000000 12.000000\n",
      "mol selection (resname CRW) and (within 3 of (resid 4 and nucleic and fragment 0) or (resid 10 and nucleic and fragment 1))\n",
      "mol material AOChalky\n",
      "mol addrep 0\n",
      "mol selupdate 1 0 1\n",
      "mol selupdate 2 0 1\n",
      "display resetview\n"
     ]
    }
   ],
   "source": [
    "d_sele = {'bp1': '(resid 4 and nucleic and fragment 0) or (resid 10 and nucleic and fragment 1)',\n",
    "          'bp2': '(resid 7 and nucleic)',\n",
    "          'bp3': '(resid 10 and nucleic and fragment 0) or (resid 4 and nucleic and fragment 1)'}\n",
    "\n",
    "draw_bp = 'bp1' # bp1, bp2, bp3\n",
    "\n",
    "print('mol delrep 0 0')\n",
    "print('mol color Name')\n",
    "print('mol representation Licorice 0.100000 12.000000 12.000000')\n",
    "print(f'mol selection {d_sele[draw_bp]}')\n",
    "print('mol material AOChalky')\n",
    "print('mol addrep 0')\n",
    "\n",
    "print('mol color Name')\n",
    "print('mol representation CPK 1.000000 0.300000 12.000000 12.000000')\n",
    "print(f'mol selection same resid as (waters within 3 of {d_sele[draw_bp]})')\n",
    "print('mol material AOChalky')\n",
    "print('mol addrep 0')\n",
    "\n",
    "print('mol color Name')\n",
    "print('mol representation CPK 1.000000 0.300000 12.000000 12.000000')\n",
    "print(f'mol selection (resname CRW) and (within 3 of {d_sele[draw_bp]})')\n",
    "print('mol material AOChalky')\n",
    "print('mol addrep 0')\n",
    "\n",
    "print('mol selupdate 1 0 1')\n",
    "print('mol selupdate 2 0 1')\n",
    "\n",
    "print('display resetview')"
   ]
  },
  {
   "cell_type": "markdown",
   "id": "4f0347bf-3fd6-48b3-88dd-483137ab8ef0",
   "metadata": {},
   "source": [
    "### Temp"
   ]
  },
  {
   "cell_type": "code",
   "execution_count": null,
   "id": "538e5d2c-dff1-4dea-8d16-57831ad1d412",
   "metadata": {},
   "outputs": [],
   "source": [
    "d_prev_name = {'em2': 'em1', 'nvt1': 'em2', 'nvt2': 'nvt1', 'npt1': 'nvt2', \n",
    "               'npt2': 'npt1', 'npt3': 'npt2', 'npt4': 'npt3', 'md0': 'npt4', 'md1': 'md0', 'md2': 'md1'}"
   ]
  }
 ],
 "metadata": {
  "kernelspec": {
   "display_name": "Python 3 (ipykernel)",
   "language": "python",
   "name": "python3"
  },
  "language_info": {
   "codemirror_mode": {
    "name": "ipython",
    "version": 3
   },
   "file_extension": ".py",
   "mimetype": "text/x-python",
   "name": "python",
   "nbconvert_exporter": "python",
   "pygments_lexer": "ipython3",
   "version": "3.8.13"
  }
 },
 "nbformat": 4,
 "nbformat_minor": 5
}
