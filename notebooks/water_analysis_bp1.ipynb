{
 "cells": [
  {
   "cell_type": "code",
   "execution_count": 2,
   "id": "a5d8a2e8-f5f5-4711-8698-bb0269afa724",
   "metadata": {},
   "outputs": [],
   "source": [
    "from os import path, mkdir\n",
    "rootdir = '/home/yizaochen/codes/cug_rna/hbond_analysis'"
   ]
  },
  {
   "cell_type": "code",
   "execution_count": 3,
   "id": "498e691a-8b0d-4a2c-b332-0e0652451e0a",
   "metadata": {},
   "outputs": [],
   "source": [
    "def check_dir_exist_and_make(file_path):\n",
    "    if path.exists(file_path):\n",
    "        print(\"{0} exists\".format(file_path))\n",
    "    else:\n",
    "        print(\"mkdir {0}\".format(file_path))\n",
    "        mkdir(file_path)"
   ]
  },
  {
   "cell_type": "code",
   "execution_count": null,
   "id": "f3eb5b6c-c5aa-4ca8-a49c-dba19dc59cab",
   "metadata": {},
   "outputs": [],
   "source": [
    "bp_lst = ['bp1', 'bp2', 'bp3']\n",
    "state_lst = ['state1', 'state2', 'state3', 'state4', 'state5']\n",
    "md_id_lst = ['md0', 'md1', 'md2']\n",
    "for bp in bp_lst:\n",
    "    bp_folder = path.join(rootdir, bp)\n",
    "    check_dir_exist_and_make(bp_folder)\n",
    "    for state in state_lst:\n",
    "        state_folder = path.join(bp_folder, state)\n",
    "        check_dir_exist_and_make(state_folder)\n",
    "        for md_id in md_id_lst:\n",
    "            md_folder = path.join(state_folder, md_id)\n",
    "            check_dir_exist_and_make(md_folder)    "
   ]
  },
  {
   "cell_type": "markdown",
   "id": "5e78e426-a70d-42dc-9c2f-7e6b1f4fae6a",
   "metadata": {},
   "source": [
    "### State 1"
   ]
  },
  {
   "cell_type": "code",
   "execution_count": 14,
   "id": "5749b0ea-9b1f-4a18-9083-dbd1877ca369",
   "metadata": {},
   "outputs": [
    {
     "name": "stdout",
     "output_type": "stream",
     "text": [
      "hbonds -sel1 [atomselect top \"((resname CRW or waters) and name OW) and (within 3.5 of (resid 4 and nucleic and fragment 0 and name O4) or (resid 10 and nucleic and fragment 1 and name O4))\"] -sel2 [atomselect top \"(resid 4 and nucleic and fragment 0 and name O4)\"] -upsel yes -frames 400:500 -dist 3.6 -ang 30 -plot no -outdir /home/yizaochen/codes/cug_rna/hbond_analysis/bp1/state1/md0 -log hb1.log -writefile yes -outfile hb1.dat -DA D -type unique -detailout hb1_detail.dat\n",
      "\n",
      "\n",
      "hbonds -sel1 [atomselect top \"((resname CRW or waters) and name OW) and (within 3.5 of (resid 4 and nucleic and fragment 0 and name O4) or (resid 10 and nucleic and fragment 1 and name O4))\"] -sel2 [atomselect top \"(resid 10 and nucleic and fragment 1 and name O4)\"] -upsel yes -frames 400:500 -dist 3.6 -ang 30 -plot no -outdir /home/yizaochen/codes/cug_rna/hbond_analysis/bp1/state1/md0 -log hb2.log -writefile yes -outfile hb2.dat -DA D -type unique -detailout hb2_detail.dat\n",
      "\n",
      "\n",
      "hbonds -sel1 [atomselect top \"(resid 4 and nucleic and fragment 0 and name N3)\"] -sel2 [atomselect top \"((resname CRW or waters) and name OW) and (within 3.5 of (resid 4 and nucleic and fragment 0 and name N3) or (resid 10 and nucleic and fragment 1 and name O2))\"] -upsel yes -frames 400:500 -dist 3.6 -ang 30 -plot no -outdir /home/yizaochen/codes/cug_rna/hbond_analysis/bp1/state1/md0 -log hb3.log -writefile yes -outfile hb3.dat -DA D -type unique -detailout hb3_detail.dat\n",
      "\n",
      "\n",
      "hbonds -sel1 [atomselect top \"((resname CRW or waters) and name OW) and (within 3.5 of (resid 4 and nucleic and fragment 0 and name N3) or (resid 10 and nucleic and fragment 1 and name O2))\"] -sel2 [atomselect top \"(resid 10 and nucleic and fragment 1 and name O2)\"] -upsel yes -frames 400:500 -dist 3.6 -ang 30 -plot no -outdir /home/yizaochen/codes/cug_rna/hbond_analysis/bp1/state1/md0 -log hb4.log -writefile yes -outfile hb4.dat -DA D -type unique -detailout hb4_detail.dat\n"
     ]
    }
   ],
   "source": [
    "bp = 'bp1'\n",
    "state = 'state1'\n",
    "md_id = 'md0'\n",
    "md_folder = path.join(rootdir, bp, state, md_id)\n",
    "frames = '400:500'\n",
    "dist = '3.6'\n",
    "angle = '30'\n",
    "\n",
    "hb_name = 'hb1'\n",
    "sel1 = \"((resname CRW or waters) and name OW) and (within 3.5 of (resid 4 and nucleic and fragment 0 and name O4) or (resid 10 and nucleic and fragment 1 and name O4))\"\n",
    "sel2 = \"(resid 4 and nucleic and fragment 0 and name O4)\"\n",
    "f_log = f'{hb_name}.log'\n",
    "dat_file = f'{hb_name}.dat'\n",
    "dat_detail = f'{hb_name}_detail.dat'\n",
    "cmd = f'hbonds -sel1 [atomselect top \"{sel1}\"] -sel2 [atomselect top \"{sel2}\"] -upsel yes -frames {frames} -dist {dist} -ang {angle} -plot no -outdir {md_folder} -log {f_log} -writefile yes -outfile {dat_file} -DA D -type unique -detailout {dat_detail}'  \n",
    "print(cmd)\n",
    "print('\\n')\n",
    "\n",
    "hb_name = 'hb2'\n",
    "sel1 = \"((resname CRW or waters) and name OW) and (within 3.5 of (resid 4 and nucleic and fragment 0 and name O4) or (resid 10 and nucleic and fragment 1 and name O4))\"\n",
    "sel2 = \"(resid 10 and nucleic and fragment 1 and name O4)\"\n",
    "f_log = f'{hb_name}.log'\n",
    "dat_file = f'{hb_name}.dat'\n",
    "dat_detail = f'{hb_name}_detail.dat'\n",
    "cmd = f'hbonds -sel1 [atomselect top \"{sel1}\"] -sel2 [atomselect top \"{sel2}\"] -upsel yes -frames {frames} -dist {dist} -ang {angle} -plot no -outdir {md_folder} -log {f_log} -writefile yes -outfile {dat_file} -DA D -type unique -detailout {dat_detail}'  \n",
    "print(cmd)\n",
    "print('\\n')\n",
    "\n",
    "hb_name = 'hb3'\n",
    "sel1 = \"(resid 4 and nucleic and fragment 0 and name N3)\"\n",
    "sel2 = \"((resname CRW or waters) and name OW) and (within 3.5 of (resid 4 and nucleic and fragment 0 and name N3) or (resid 10 and nucleic and fragment 1 and name O2))\"\n",
    "f_log = f'{hb_name}.log'\n",
    "dat_file = f'{hb_name}.dat'\n",
    "dat_detail = f'{hb_name}_detail.dat'\n",
    "cmd = f'hbonds -sel1 [atomselect top \"{sel1}\"] -sel2 [atomselect top \"{sel2}\"] -upsel yes -frames {frames} -dist {dist} -ang {angle} -plot no -outdir {md_folder} -log {f_log} -writefile yes -outfile {dat_file} -DA D -type unique -detailout {dat_detail}'  \n",
    "print(cmd)\n",
    "print('\\n')\n",
    "\n",
    "hb_name = 'hb4'\n",
    "sel1 = \"((resname CRW or waters) and name OW) and (within 3.5 of (resid 4 and nucleic and fragment 0 and name N3) or (resid 10 and nucleic and fragment 1 and name O2))\"\n",
    "sel2 = \"(resid 10 and nucleic and fragment 1 and name O2)\"\n",
    "f_log = f'{hb_name}.log'\n",
    "dat_file = f'{hb_name}.dat'\n",
    "dat_detail = f'{hb_name}_detail.dat'\n",
    "cmd = f'hbonds -sel1 [atomselect top \"{sel1}\"] -sel2 [atomselect top \"{sel2}\"] -upsel yes -frames {frames} -dist {dist} -ang {angle} -plot no -outdir {md_folder} -log {f_log} -writefile yes -outfile {dat_file} -DA D -type unique -detailout {dat_detail}'  \n",
    "print(cmd)"
   ]
  },
  {
   "cell_type": "markdown",
   "id": "b46fa5dc-cd5c-47f6-924b-ac51dd2bac76",
   "metadata": {},
   "source": [
    "### State 2"
   ]
  },
  {
   "cell_type": "code",
   "execution_count": 7,
   "id": "56d39bf5-da7e-49e5-a5bc-7dd88df8dce5",
   "metadata": {},
   "outputs": [
    {
     "name": "stdout",
     "output_type": "stream",
     "text": [
      "hbonds -sel1 [atomselect top \"((resname CRW or waters) and name OW) and (within 3.5 of (resid 4 and nucleic and fragment 0 and name O4) or (resid 10 and nucleic and fragment 1 and name O4))\"] -sel2 [atomselect top \"(resid 4 and nucleic and fragment 0 and name O4)\"] -upsel yes -frames 400:500 -dist 3.6 -ang 30 -plot no -outdir /home/yizaochen/codes/cug_rna/hbond_analysis/bp1/state2/md0 -log hb1.log -writefile yes -outfile hb1.dat -DA D -type unique -detailout hb1_detail.dat\n",
      "\n",
      "\n",
      "hbonds -sel1 [atomselect top \"((resname CRW or waters) and name OW) and (within 3.5 of (resid 4 and nucleic and fragment 0 and name O4) or (resid 10 and nucleic and fragment 1 and name O4))\"] -sel2 [atomselect top \"(resid 10 and nucleic and fragment 1 and name O4)\"] -upsel yes -frames 400:500 -dist 3.6 -ang 30 -plot no -outdir /home/yizaochen/codes/cug_rna/hbond_analysis/bp1/state2/md0 -log hb2.log -writefile yes -outfile hb2.dat -DA D -type unique -detailout hb2_detail.dat\n",
      "\n",
      "\n",
      "hbonds -sel1 [atomselect top \"((resname CRW or waters) and name OW) and (within 3.5 of (resid 4 and nucleic and fragment 0 and name O2) or (resid 10 and nucleic and fragment 1 and name N3))\"] -sel2 [atomselect top \"(resid 4 and nucleic and fragment 0 and name O2)\"] -upsel yes -frames 400:500 -dist 3.6 -ang 30 -plot no -outdir /home/yizaochen/codes/cug_rna/hbond_analysis/bp1/state2/md0 -log hb3.log -writefile yes -outfile hb3.dat -DA D -type unique -detailout hb3_detail.dat\n",
      "\n",
      "\n",
      "hbonds -sel1 [atomselect top \"(resid 10 and nucleic and fragment 1 and name N3)\"] -sel2 [atomselect top \"((resname CRW or waters) and name OW) and (within 3.5 of (resid 4 and nucleic and fragment 0 and name O2) or (resid 10 and nucleic and fragment 1 and name N3))\"] -upsel yes -frames 400:500 -dist 3.6 -ang 30 -plot no -outdir /home/yizaochen/codes/cug_rna/hbond_analysis/bp1/state2/md0 -log hb4.log -writefile yes -outfile hb4.dat -DA D -type unique -detailout hb4_detail.dat\n"
     ]
    }
   ],
   "source": [
    "bp = 'bp1'\n",
    "state = 'state2'\n",
    "md_id = 'md0'\n",
    "md_folder = path.join(rootdir, bp, state, md_id)\n",
    "frames = '400:500'\n",
    "dist = '3.6'\n",
    "angle = '30'\n",
    "\n",
    "hb_name = 'hb1'\n",
    "sel1 = \"((resname CRW or waters) and name OW) and (within 3.5 of (resid 4 and nucleic and fragment 0 and name O4) or (resid 10 and nucleic and fragment 1 and name O4))\"\n",
    "sel2 = \"(resid 4 and nucleic and fragment 0 and name O4)\"\n",
    "f_log = f'{hb_name}.log'\n",
    "dat_file = f'{hb_name}.dat'\n",
    "dat_detail = f'{hb_name}_detail.dat'\n",
    "cmd = f'hbonds -sel1 [atomselect top \"{sel1}\"] -sel2 [atomselect top \"{sel2}\"] -upsel yes -frames {frames} -dist {dist} -ang {angle} -plot no -outdir {md_folder} -log {f_log} -writefile yes -outfile {dat_file} -DA D -type unique -detailout {dat_detail}'  \n",
    "print(cmd)\n",
    "print('\\n')\n",
    "\n",
    "hb_name = 'hb2'\n",
    "sel1 = \"((resname CRW or waters) and name OW) and (within 3.5 of (resid 4 and nucleic and fragment 0 and name O4) or (resid 10 and nucleic and fragment 1 and name O4))\"\n",
    "sel2 = \"(resid 10 and nucleic and fragment 1 and name O4)\"\n",
    "f_log = f'{hb_name}.log'\n",
    "dat_file = f'{hb_name}.dat'\n",
    "dat_detail = f'{hb_name}_detail.dat'\n",
    "cmd = f'hbonds -sel1 [atomselect top \"{sel1}\"] -sel2 [atomselect top \"{sel2}\"] -upsel yes -frames {frames} -dist {dist} -ang {angle} -plot no -outdir {md_folder} -log {f_log} -writefile yes -outfile {dat_file} -DA D -type unique -detailout {dat_detail}'  \n",
    "print(cmd)\n",
    "print('\\n')\n",
    "\n",
    "hb_name = 'hb3'\n",
    "sel1 = \"((resname CRW or waters) and name OW) and (within 3.5 of (resid 4 and nucleic and fragment 0 and name O2) or (resid 10 and nucleic and fragment 1 and name N3))\"\n",
    "sel2 = \"(resid 4 and nucleic and fragment 0 and name O2)\"\n",
    "f_log = f'{hb_name}.log'\n",
    "dat_file = f'{hb_name}.dat'\n",
    "dat_detail = f'{hb_name}_detail.dat'\n",
    "cmd = f'hbonds -sel1 [atomselect top \"{sel1}\"] -sel2 [atomselect top \"{sel2}\"] -upsel yes -frames {frames} -dist {dist} -ang {angle} -plot no -outdir {md_folder} -log {f_log} -writefile yes -outfile {dat_file} -DA D -type unique -detailout {dat_detail}'  \n",
    "print(cmd)\n",
    "print('\\n')\n",
    "\n",
    "hb_name = 'hb4'\n",
    "sel1 = \"(resid 10 and nucleic and fragment 1 and name N3)\"\n",
    "sel2 = \"((resname CRW or waters) and name OW) and (within 3.5 of (resid 4 and nucleic and fragment 0 and name O2) or (resid 10 and nucleic and fragment 1 and name N3))\"\n",
    "f_log = f'{hb_name}.log'\n",
    "dat_file = f'{hb_name}.dat'\n",
    "dat_detail = f'{hb_name}_detail.dat'\n",
    "cmd = f'hbonds -sel1 [atomselect top \"{sel1}\"] -sel2 [atomselect top \"{sel2}\"] -upsel yes -frames {frames} -dist {dist} -ang {angle} -plot no -outdir {md_folder} -log {f_log} -writefile yes -outfile {dat_file} -DA D -type unique -detailout {dat_detail}'  \n",
    "print(cmd)"
   ]
  },
  {
   "cell_type": "markdown",
   "id": "59fb3bdb-89c7-463f-b12b-72dc91c89b1d",
   "metadata": {},
   "source": [
    "### State 3"
   ]
  },
  {
   "cell_type": "code",
   "execution_count": 6,
   "id": "b5523373-d6d4-4ac2-aa30-6856bb5953f0",
   "metadata": {},
   "outputs": [
    {
     "name": "stdout",
     "output_type": "stream",
     "text": [
      "hbonds -sel1 [atomselect top \"(resid 4 and nucleic and fragment 0 and name N3)\"] -sel2 [atomselect top \"((resname CRW or waters) and name OW) and (within 3.5 of (resid 4 and nucleic and fragment 0 and name N3) or (resid 10 and nucleic and fragment 1 and name N3))\"] -upsel yes -frames 400:500 -dist 3.6 -ang 30 -plot no -outdir /home/yizaochen/codes/cug_rna/hbond_analysis/bp1/state1/md0 -log hb1.log -writefile yes -outfile hb1.dat -DA D -type unique -detailout hb1_detail.dat\n",
      "\n",
      "\n",
      "hbonds -sel1 [atomselect top \"(resid 10 and nucleic and fragment 1 and name N3)\"] -sel2 [atomselect top \"((resname CRW or waters) and name OW) and (within 3.5 of (resid 4 and nucleic and fragment 0 and name N3) or (resid 10 and nucleic and fragment 1 and name N3))\"] -upsel yes -frames 400:500 -dist 3.6 -ang 30 -plot no -outdir /home/yizaochen/codes/cug_rna/hbond_analysis/bp1/state1/md0 -log hb2.log -writefile yes -outfile hb2.dat -DA D -type unique -detailout hb2_detail.dat\n",
      "\n",
      "\n"
     ]
    }
   ],
   "source": [
    "bp = 'bp1'\n",
    "state = 'state3'\n",
    "md_id = 'md0'\n",
    "md_folder = path.join(rootdir, bp, state, md_id)\n",
    "frames = '400:500'\n",
    "dist = '3.6'\n",
    "angle = '30'\n",
    "\n",
    "hb_name = 'hb1'\n",
    "sel1 = \"(resid 4 and nucleic and fragment 0 and name N3)\"\n",
    "sel2 = \"((resname CRW or waters) and name OW) and (within 3.5 of (resid 4 and nucleic and fragment 0 and name N3) or (resid 10 and nucleic and fragment 1 and name N3))\"\n",
    "f_log = f'{hb_name}.log'\n",
    "dat_file = f'{hb_name}.dat'\n",
    "dat_detail = f'{hb_name}_detail.dat'\n",
    "cmd = f'hbonds -sel1 [atomselect top \"{sel1}\"] -sel2 [atomselect top \"{sel2}\"] -upsel yes -frames {frames} -dist {dist} -ang {angle} -plot no -outdir {md_folder} -log {f_log} -writefile yes -outfile {dat_file} -DA D -type unique -detailout {dat_detail}'  \n",
    "print(cmd)\n",
    "print('\\n')\n",
    "\n",
    "hb_name = 'hb2'\n",
    "sel1 = \"(resid 10 and nucleic and fragment 1 and name N3)\"\n",
    "sel2 = \"((resname CRW or waters) and name OW) and (within 3.5 of (resid 4 and nucleic and fragment 0 and name N3) or (resid 10 and nucleic and fragment 1 and name N3))\"\n",
    "f_log = f'{hb_name}.log'\n",
    "dat_file = f'{hb_name}.dat'\n",
    "dat_detail = f'{hb_name}_detail.dat'\n",
    "cmd = f'hbonds -sel1 [atomselect top \"{sel1}\"] -sel2 [atomselect top \"{sel2}\"] -upsel yes -frames {frames} -dist {dist} -ang {angle} -plot no -outdir {md_folder} -log {f_log} -writefile yes -outfile {dat_file} -DA D -type unique -detailout {dat_detail}'  \n",
    "print(cmd)\n",
    "print('\\n')"
   ]
  },
  {
   "cell_type": "markdown",
   "id": "bb329e56-b9d3-4efa-8dc3-28b2385006a7",
   "metadata": {},
   "source": [
    "### State 4"
   ]
  },
  {
   "cell_type": "code",
   "execution_count": 8,
   "id": "6dca0b4a-e02e-42c5-873c-c6b0bc5b675d",
   "metadata": {},
   "outputs": [
    {
     "name": "stdout",
     "output_type": "stream",
     "text": [
      "hbonds -sel1 [atomselect top \"(resid 10 and nucleic and fragment 1 and name N3)\"] -sel2 [atomselect top \"(resid 4 and nucleic and fragment 0 and name O4)\"] -upsel yes -frames 400:500 -dist 3.6 -ang 30 -plot no -outdir /home/yizaochen/codes/cug_rna/hbond_analysis/bp1/state4/md0 -log hb1.log -writefile yes -outfile hb1.dat -DA D -type unique -detailout hb1_detail.dat\n",
      "\n",
      "\n",
      "hbonds -sel1 [atomselect top \"(resid 4 and nucleic and fragment 0 and name N3)\"] -sel2 [atomselect top \"(resid 10 and nucleic and fragment 1 and name O2)\"] -upsel yes -frames 400:500 -dist 3.6 -ang 30 -plot no -outdir /home/yizaochen/codes/cug_rna/hbond_analysis/bp1/state4/md0 -log hb2.log -writefile yes -outfile hb2.dat -DA D -type unique -detailout hb2_detail.dat\n",
      "\n",
      "\n"
     ]
    }
   ],
   "source": [
    "bp = 'bp1'\n",
    "state = 'state4'\n",
    "md_id = 'md0'\n",
    "md_folder = path.join(rootdir, bp, state, md_id)\n",
    "frames = '400:500'\n",
    "dist = '3.6'\n",
    "angle = '30'\n",
    "\n",
    "hb_name = 'hb1'\n",
    "sel1 = \"(resid 10 and nucleic and fragment 1 and name N3)\"\n",
    "sel2 = \"(resid 4 and nucleic and fragment 0 and name O4)\"\n",
    "f_log = f'{hb_name}.log'\n",
    "dat_file = f'{hb_name}.dat'\n",
    "dat_detail = f'{hb_name}_detail.dat'\n",
    "cmd = f'hbonds -sel1 [atomselect top \"{sel1}\"] -sel2 [atomselect top \"{sel2}\"] -upsel yes -frames {frames} -dist {dist} -ang {angle} -plot no -outdir {md_folder} -log {f_log} -writefile yes -outfile {dat_file} -DA D -type unique -detailout {dat_detail}'  \n",
    "print(cmd)\n",
    "print('\\n')\n",
    "\n",
    "hb_name = 'hb2'\n",
    "sel1 = \"(resid 4 and nucleic and fragment 0 and name N3)\"\n",
    "sel2 = \"(resid 10 and nucleic and fragment 1 and name O2)\"\n",
    "f_log = f'{hb_name}.log'\n",
    "dat_file = f'{hb_name}.dat'\n",
    "dat_detail = f'{hb_name}_detail.dat'\n",
    "cmd = f'hbonds -sel1 [atomselect top \"{sel1}\"] -sel2 [atomselect top \"{sel2}\"] -upsel yes -frames {frames} -dist {dist} -ang {angle} -plot no -outdir {md_folder} -log {f_log} -writefile yes -outfile {dat_file} -DA D -type unique -detailout {dat_detail}'  \n",
    "print(cmd)\n",
    "print('\\n')"
   ]
  },
  {
   "cell_type": "markdown",
   "id": "208611e9-d720-44a0-8949-cd064d636a14",
   "metadata": {},
   "source": [
    "### State 5"
   ]
  },
  {
   "cell_type": "code",
   "execution_count": 9,
   "id": "6da85fab-aafd-4e27-89d1-096d2c29960f",
   "metadata": {},
   "outputs": [
    {
     "name": "stdout",
     "output_type": "stream",
     "text": [
      "hbonds -sel1 [atomselect top \"(resid 4 and nucleic and fragment 0 and name N3)\"] -sel2 [atomselect top \"(resid 10 and nucleic and fragment 1 and name O4)\"] -upsel yes -frames 400:500 -dist 3.6 -ang 30 -plot no -outdir /home/yizaochen/codes/cug_rna/hbond_analysis/bp1/state5/md0 -log hb1.log -writefile yes -outfile hb1.dat -DA D -type unique -detailout hb1_detail.dat\n",
      "\n",
      "\n",
      "hbonds -sel1 [atomselect top \"(resid 10 and nucleic and fragment 1 and name N3)\"] -sel2 [atomselect top \"(resid 4 and nucleic and fragment 0 and name O2)\"] -upsel yes -frames 400:500 -dist 3.6 -ang 30 -plot no -outdir /home/yizaochen/codes/cug_rna/hbond_analysis/bp1/state5/md0 -log hb2.log -writefile yes -outfile hb2.dat -DA D -type unique -detailout hb2_detail.dat\n",
      "\n",
      "\n"
     ]
    }
   ],
   "source": [
    "bp = 'bp1'\n",
    "state = 'state5'\n",
    "md_id = 'md0'\n",
    "md_folder = path.join(rootdir, bp, state, md_id)\n",
    "frames = '400:500'\n",
    "dist = '3.6'\n",
    "angle = '30'\n",
    "\n",
    "hb_name = 'hb1'\n",
    "sel1 = \"(resid 4 and nucleic and fragment 0 and name N3)\"\n",
    "sel2 = \"(resid 10 and nucleic and fragment 1 and name O4)\"\n",
    "f_log = f'{hb_name}.log'\n",
    "dat_file = f'{hb_name}.dat'\n",
    "dat_detail = f'{hb_name}_detail.dat'\n",
    "cmd = f'hbonds -sel1 [atomselect top \"{sel1}\"] -sel2 [atomselect top \"{sel2}\"] -upsel yes -frames {frames} -dist {dist} -ang {angle} -plot no -outdir {md_folder} -log {f_log} -writefile yes -outfile {dat_file} -DA D -type unique -detailout {dat_detail}'  \n",
    "print(cmd)\n",
    "print('\\n')\n",
    "\n",
    "hb_name = 'hb2'\n",
    "sel1 = \"(resid 10 and nucleic and fragment 1 and name N3)\"\n",
    "sel2 = \"(resid 4 and nucleic and fragment 0 and name O2)\"\n",
    "f_log = f'{hb_name}.log'\n",
    "dat_file = f'{hb_name}.dat'\n",
    "dat_detail = f'{hb_name}_detail.dat'\n",
    "cmd = f'hbonds -sel1 [atomselect top \"{sel1}\"] -sel2 [atomselect top \"{sel2}\"] -upsel yes -frames {frames} -dist {dist} -ang {angle} -plot no -outdir {md_folder} -log {f_log} -writefile yes -outfile {dat_file} -DA D -type unique -detailout {dat_detail}'  \n",
    "print(cmd)\n",
    "print('\\n')"
   ]
  }
 ],
 "metadata": {
  "kernelspec": {
   "display_name": "Python 3 (ipykernel)",
   "language": "python",
   "name": "python3"
  },
  "language_info": {
   "codemirror_mode": {
    "name": "ipython",
    "version": 3
   },
   "file_extension": ".py",
   "mimetype": "text/x-python",
   "name": "python",
   "nbconvert_exporter": "python",
   "pygments_lexer": "ipython3",
   "version": "3.8.13"
  }
 },
 "nbformat": 4,
 "nbformat_minor": 5
}
