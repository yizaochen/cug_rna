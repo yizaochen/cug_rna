{
 "cells": [
  {
   "cell_type": "markdown",
   "id": "989c3047-f1b3-460d-bda7-155af931c9dc",
   "metadata": {},
   "source": [
    "### Split the old file into two strands and crystal water molecules by vim\n",
    "- original file: cug_rna_duplex.pdb"
   ]
  },
  {
   "cell_type": "markdown",
   "id": "32772cf5-33fa-4766-93fa-a259360c5f34",
   "metadata": {},
   "source": [
    "```\n",
    "cp cug_rna_duplex.pdb ../charmm_setup/strand1.input.pdb\n",
    "cp cug_rna_duplex.pdb ../charmm_setup/strand2.input.pdb\n",
    "cp cug_rna_duplex.pdb ../charmm_setup/crystal.water.input.pdb\n",
    "```"
   ]
  },
  {
   "cell_type": "markdown",
   "id": "dcf6ccef-531d-4739-8710-605ccab9d801",
   "metadata": {},
   "source": [
    "### Rename atomname in RNA\n",
    "| Crystal | CHARMM |\n",
    "|---------|--------|\n",
    "| OP1     | O1P    |\n",
    "| OP2     | O2P    |\n",
    "| OP3     | O5T    |"
   ]
  },
  {
   "cell_type": "markdown",
   "id": "fc389c5d-af3a-4a3d-b7c0-d02aa5148d9a",
   "metadata": {},
   "source": [
    "#### First step\n",
    "```\n",
    "cat strand1.input.pdb | sed 's/OP1/O1P/' | sed 's/OP2/O2P/' > strand1.input.1.pdb\n",
    "cat strand2.input.pdb | sed 's/OP1/O1P/' | sed 's/OP2/O2P/' > strand2.input.1.pdb\n",
    "```\n",
    "\n",
    "#### Second step\n",
    "```\n",
    "remove P O1P O2P O3P\n",
    "```\n",
    "\n",
    "#### Third step\n",
    "trim the chain name after resname, and trim the last column of elements by vim"
   ]
  },
  {
   "cell_type": "markdown",
   "id": "9d017e59-440e-4140-9a81-bc0fef912547",
   "metadata": {},
   "source": [
    "### Rename resname and atomid"
   ]
  },
  {
   "cell_type": "code",
   "execution_count": 6,
   "id": "8e456355-8a15-4858-b2a8-1f242d88ee38",
   "metadata": {},
   "outputs": [],
   "source": [
    "from os import path\n",
    "from pdbtools import pdb\n",
    "pdb_folder = '/home/yizaochen/codes/cug_rna/charmm_setup/pdb'"
   ]
  },
  {
   "cell_type": "code",
   "execution_count": 7,
   "id": "f95871d0-afe9-411f-9d53-713e70e80eef",
   "metadata": {},
   "outputs": [
    {
     "name": "stdout",
     "output_type": "stream",
     "text": [
      "Write PDB: /home/yizaochen/codes/cug_rna/charmm_setup/pdb/strand1.input.2.pdb\n"
     ]
    }
   ],
   "source": [
    "strand1_in_pdb = path.join(pdb_folder, 'strand1.input.1.pdb')\n",
    "strand1_out_pdb = path.join(pdb_folder, 'strand1.input.2.pdb')\n",
    "\n",
    "reader = pdb.PDBReader(strand1_in_pdb)\n",
    "d_resname = {'A': 'ADE', 'U': 'URA', 'G': 'GUA', 'C': 'CYT'}\n",
    "for idx, atom in enumerate(reader.atomgroup):\n",
    "    atom.set_resname(d_resname[atom.resname])\n",
    "    atom.set_atomid(idx+1)\n",
    "    \n",
    "writer = pdb.PDBWriter(strand1_out_pdb, reader.atomgroup)\n",
    "writer.write_pdb()"
   ]
  },
  {
   "cell_type": "code",
   "execution_count": 8,
   "id": "f264ef3a-662d-4215-835a-212fee7b2e65",
   "metadata": {},
   "outputs": [
    {
     "name": "stdout",
     "output_type": "stream",
     "text": [
      "Write PDB: /home/yizaochen/codes/cug_rna/charmm_setup/pdb/strand2.input.2.pdb\n"
     ]
    }
   ],
   "source": [
    "strand2_in_pdb = path.join(pdb_folder, 'strand2.input.1.pdb')\n",
    "strand2_out_pdb = path.join(pdb_folder, 'strand2.input.2.pdb')\n",
    "\n",
    "reader = pdb.PDBReader(strand2_in_pdb)\n",
    "d_resname = {'A': 'ADE', 'U': 'URA', 'G': 'GUA', 'C': 'CYT'}\n",
    "for idx, atom in enumerate(reader.atomgroup):\n",
    "    atom.set_resname(d_resname[atom.resname])\n",
    "    atom.set_atomid(idx+1)\n",
    "    \n",
    "writer = pdb.PDBWriter(strand2_out_pdb, reader.atomgroup)\n",
    "writer.write_pdb()"
   ]
  },
  {
   "cell_type": "markdown",
   "id": "809190fb-bd5f-430f-94c0-a33e8f93bb3e",
   "metadata": {},
   "source": [
    "### CHARMM build each molecule separately\n",
    "```\n",
    "charmm < strand1.inp > strand1.dat\n",
    "charmm < strand2.inp > strand2.dat\n",
    "```"
   ]
  },
  {
   "cell_type": "markdown",
   "id": "74b129e6-1d55-45ea-8a05-2d150bf869f5",
   "metadata": {},
   "source": [
    "### Rename atomname in water\n",
    "| Crystal | CHARMM |\n",
    "|---------|--------|\n",
    "| O     | OH2    |\n",
    "\n",
    "#### First step\n",
    "```\n",
    "cat crystal.water.input.pdb | sed 's/  O   /  OH2 /' > crystal.water.input.1.pdb\n",
    "```\n",
    "#### Second step\n",
    "trim the chain name after resname, and trim the last column of elements by vim"
   ]
  },
  {
   "cell_type": "markdown",
   "id": "02ce7085-c996-4e95-9e6e-ac65be5d6f3f",
   "metadata": {},
   "source": [
    "#### Note\n",
    "1. Water 22 duplicate -> remove F000's one\n",
    "2. water 43 duplicate -> remove F000's one"
   ]
  },
  {
   "cell_type": "code",
   "execution_count": 5,
   "id": "fabf7f24-3cc4-4b88-97ea-89b67b51823d",
   "metadata": {},
   "outputs": [
    {
     "name": "stdout",
     "output_type": "stream",
     "text": [
      "Write PDB: /home/yizaochen/codes/cug_rna/charmm_setup/pdb/crystal.water.input.2.pdb\n"
     ]
    }
   ],
   "source": [
    "in_pdb = path.join(pdb_folder, 'crystal.water.input.1.pdb')\n",
    "out_pdb = path.join(pdb_folder, 'crystal.water.input.2.pdb')\n",
    "\n",
    "reader = pdb.PDBReader(in_pdb)\n",
    "for idx, atom in enumerate(reader.atomgroup):\n",
    "    atom.set_resname('TIP3')\n",
    "    atom.set_atomid(idx+1)\n",
    "    atom.set_resid(idx+1)\n",
    "    \n",
    "writer = pdb.PDBWriter(out_pdb, reader.atomgroup)\n",
    "writer.write_pdb()"
   ]
  },
  {
   "cell_type": "markdown",
   "id": "f62a60ad-2665-4055-8268-53f40ed29075",
   "metadata": {},
   "source": [
    "### Build Crystal Water By CHARMM\n",
    "\n",
    "```\n",
    "charmm < crystal_water.inp > crystal_water.dat\n",
    "```"
   ]
  },
  {
   "cell_type": "markdown",
   "id": "bbb74909-0dae-4e27-a72e-8d8db41ded45",
   "metadata": {},
   "source": [
    "### Combine three molecules by CHARMM\n",
    "\n",
    "```\n",
    "charmm < dsrna+crywater.inp > dsrna+crywater.dat\n",
    "```"
   ]
  },
  {
   "cell_type": "markdown",
   "id": "28bd2f37-9735-4c9c-8dc9-1c35b0409e9a",
   "metadata": {},
   "source": [
    "### Rename resname\n",
    "```\n",
    "cat cug3.aa.0.pdb | sed 's/URA/RU /' | sed 's/ADE/RA /' | sed 's/GUA/RG /' | sed 's/CYT/RC /' > cug3.aa.1.pdb\n",
    "```\n",
    "\n",
    "- vim -> make 5ter and 3ter as RX5, RX3"
   ]
  },
  {
   "cell_type": "markdown",
   "id": "c2d0fa10-3d94-49c6-86d4-1c5eeb45e1d3",
   "metadata": {},
   "source": [
    "### Rename atomname\n",
    "\n",
    "| AMBER in CHARMM | OL15 in GROMACS |\n",
    "|-------------|-----------------|\n",
    "| H5'         | H5'1            |\n",
    "| H5''        | H5'2            |\n",
    "| H2''        | H2'1            |\n",
    "| H2'         | HO'2            |\n",
    "\n",
    "```\n",
    "cat cug3.aa.1.pdb | sed \"s/ H5' /H5'1 /\" | sed \"s/H5''/H5'2/\" | sed \"s/H2''/H2'1/\" | sed \"s/ H2' /HO'2 /\" > cug3.aa.2.pdb\n",
    "```"
   ]
  },
  {
   "cell_type": "markdown",
   "id": "86d0494b-3309-4a50-94c3-c83f59f94570",
   "metadata": {},
   "source": [
    "### Rename resname and atomname for Water\n",
    "#### Resname\n",
    "TIP3 -> SOL\n",
    "\n",
    "#### Atomname\n",
    "| AMBER in CHARMM | OL15 in GROMACS |\n",
    "|-------------|-----------------|\n",
    "| OH2        | OW            |\n",
    "| H1        | HW1            |\n",
    "| H2        | HW2            |\n",
    "\n",
    "```\n",
    "cat cug3.aa.2.pdb | sed \"s/TIP3/SOL /\"| sed \"s/OH2/OW /\" | sed \"s/H1  SOL/HW1 SOL/\" | sed \"s/H2  SOL/HW2 SOL/\" > cug3.aa.3.pdb\n",
    "```\n",
    "\n",
    "### Add TER by vim\n",
    "### Upload to allostery"
   ]
  },
  {
   "cell_type": "markdown",
   "id": "ce33b276-da7f-4cfc-b7ec-cd0a3c2e69fe",
   "metadata": {},
   "source": [
    "### VMD show and draw"
   ]
  },
  {
   "cell_type": "raw",
   "id": "f72078ec-3fa6-42b6-8e93-e9abfed05215",
   "metadata": {},
   "source": [
    "### mismatch1, 2, 3\n",
    "\n",
    "mol color Name\n",
    "mol representation Licorice 0.300000 12.000000 12.000000\n",
    "mol selection (resid 4 and (nucleic and not segname F000)) or (resid 10 and (nucleic and segname F000))\n",
    "mol material Opaque\n",
    "mol addrep 0\n",
    "\n",
    "mol color Name\n",
    "mol representation Licorice 0.300000 12.000000 12.000000\n",
    "mol selection (resid 7 and nucleic)\n",
    "mol material Opaque\n",
    "mol addrep 0\n",
    "\n",
    "mol color Name\n",
    "mol representation Licorice 0.300000 12.000000 12.000000\n",
    "mol selection (resid 10 and (nucleic and not segname F000)) or (resid 4 and (nucleic and segname F000))\n",
    "mol material Opaque\n",
    "mol addrep 0\n",
    "\n",
    "mol color Name\n",
    "mol representation VDW 0.400000 12.000000\n",
    "mol selection waters within 3 of (resid 4 7 10 and nucleic)\n",
    "mol material Opaque\n",
    "mol addrep 0"
   ]
  }
 ],
 "metadata": {
  "kernelspec": {
   "display_name": "Python 3 (ipykernel)",
   "language": "python",
   "name": "python3"
  },
  "language_info": {
   "codemirror_mode": {
    "name": "ipython",
    "version": 3
   },
   "file_extension": ".py",
   "mimetype": "text/x-python",
   "name": "python",
   "nbconvert_exporter": "python",
   "pygments_lexer": "ipython3",
   "version": "3.8.13"
  }
 },
 "nbformat": 4,
 "nbformat_minor": 5
}
