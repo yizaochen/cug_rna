{
 "cells": [
  {
   "cell_type": "code",
   "execution_count": 1,
   "id": "708e75b3-d065-4569-9297-752284f8c592",
   "metadata": {},
   "outputs": [],
   "source": [
    "from os import path\n",
    "import matplotlib.pyplot as plt\n",
    "from water_stat.df_util import DFAgent\n",
    "from water_stat.plot import PlotAgent\n",
    "drawzone_folder = '/home/yizaochen/Desktop/drawzone_temp'"
   ]
  },
  {
   "cell_type": "markdown",
   "id": "282795cc-887b-423b-8b55-8dab58d660d2",
   "metadata": {},
   "source": [
    "### Process DataFrame"
   ]
  },
  {
   "cell_type": "code",
   "execution_count": 2,
   "id": "382bd8d3-dab9-4458-978b-9116b10a35aa",
   "metadata": {},
   "outputs": [],
   "source": [
    "bp_id = 'bp1'\n",
    "state_id = 'state1'\n",
    "df_agent = DFAgent(bp_id, state_id)"
   ]
  },
  {
   "cell_type": "code",
   "execution_count": 11,
   "id": "5913606e-75e8-4f6f-95e5-683d5dfe54bf",
   "metadata": {},
   "outputs": [
    {
     "data": {
      "text/html": [
       "<div>\n",
       "<style scoped>\n",
       "    .dataframe tbody tr th:only-of-type {\n",
       "        vertical-align: middle;\n",
       "    }\n",
       "\n",
       "    .dataframe tbody tr th {\n",
       "        vertical-align: top;\n",
       "    }\n",
       "\n",
       "    .dataframe thead th {\n",
       "        text-align: right;\n",
       "    }\n",
       "</style>\n",
       "<table border=\"1\" class=\"dataframe\">\n",
       "  <thead>\n",
       "    <tr style=\"text-align: right;\">\n",
       "      <th></th>\n",
       "      <th>hb1</th>\n",
       "      <th>hb2</th>\n",
       "      <th>hb3</th>\n",
       "      <th>hb4</th>\n",
       "    </tr>\n",
       "  </thead>\n",
       "  <tbody>\n",
       "    <tr>\n",
       "      <th>0</th>\n",
       "      <td>1</td>\n",
       "      <td>0</td>\n",
       "      <td>0</td>\n",
       "      <td>0</td>\n",
       "    </tr>\n",
       "    <tr>\n",
       "      <th>1</th>\n",
       "      <td>0</td>\n",
       "      <td>0</td>\n",
       "      <td>0</td>\n",
       "      <td>1</td>\n",
       "    </tr>\n",
       "    <tr>\n",
       "      <th>2</th>\n",
       "      <td>0</td>\n",
       "      <td>0</td>\n",
       "      <td>0</td>\n",
       "      <td>1</td>\n",
       "    </tr>\n",
       "    <tr>\n",
       "      <th>3</th>\n",
       "      <td>0</td>\n",
       "      <td>1</td>\n",
       "      <td>0</td>\n",
       "      <td>1</td>\n",
       "    </tr>\n",
       "    <tr>\n",
       "      <th>4</th>\n",
       "      <td>0</td>\n",
       "      <td>0</td>\n",
       "      <td>0</td>\n",
       "      <td>1</td>\n",
       "    </tr>\n",
       "  </tbody>\n",
       "</table>\n",
       "</div>"
      ],
      "text/plain": [
       "   hb1  hb2  hb3  hb4\n",
       "0    1    0    0    0\n",
       "1    0    0    0    1\n",
       "2    0    0    0    1\n",
       "3    0    1    0    1\n",
       "4    0    0    0    1"
      ]
     },
     "execution_count": 11,
     "metadata": {},
     "output_type": "execute_result"
    }
   ],
   "source": [
    "makedf = False\n",
    "if makedf:\n",
    "    df_agent.make_df()\n",
    "else:\n",
    "    df_agent.read_df()\n",
    "df_agent.df.head()"
   ]
  },
  {
   "cell_type": "markdown",
   "id": "41eb8efe-70ec-4580-8601-210f5d5a77d2",
   "metadata": {},
   "source": [
    "### Plot"
   ]
  },
  {
   "cell_type": "code",
   "execution_count": 8,
   "id": "d0180508-38f4-49c4-a564-ca4035de3bbd",
   "metadata": {},
   "outputs": [
    {
     "data": {
      "image/png": "[encoded data removed]",
      "text/plain": [
       "<Figure size 288x144 with 1 Axes>"
      ]
     },
     "metadata": {
      "needs_background": "light"
     },
     "output_type": "display_data"
    }
   ],
   "source": [
    "bp_id = 'bp2'\n",
    "figsize = (4, 2)\n",
    "agent = PlotAgent(bp_id)\n",
    "fig, ax = agent.plot_main(figsize)\n",
    "svg_name = path.join(drawzone_folder, f'{bp_id}_stat.svg')\n",
    "plt.tight_layout()\n",
    "plt.savefig(svg_name)\n",
    "plt.show()"
   ]
  },
  {
   "cell_type": "markdown",
   "id": "8cfa0877-4536-4a8d-8ce6-644ce16c5884",
   "metadata": {},
   "source": [
    "### Batch Make DF"
   ]
  },
  {
   "cell_type": "code",
   "execution_count": 5,
   "id": "16d404a0-b859-4f3e-aea4-2a6a1c1697be",
   "metadata": {},
   "outputs": [],
   "source": [
    "bp_lst = ['bp1', 'bp2', 'bp3']\n",
    "state_lst = [f'state{i}' for i in range(1,6)]\n",
    "for bp_id in bp_lst:\n",
    "    for state_id in state_lst:\n",
    "        df_agent = DFAgent(bp_id, state_id)\n",
    "        #df_agent.make_df()"
   ]
  },
  {
   "cell_type": "code",
   "execution_count": null,
   "id": "d2cb5a5f-f526-4830-a42e-44cee8cc9ee4",
   "metadata": {},
   "outputs": [],
   "source": []
  }
 ],
 "metadata": {
  "kernelspec": {
   "display_name": "Python 3",
   "language": "python",
   "name": "python3"
  },
  "language_info": {
   "codemirror_mode": {
    "name": "ipython",
    "version": 3
   },
   "file_extension": ".py",
   "mimetype": "text/x-python",
   "name": "python",
   "nbconvert_exporter": "python",
   "pygments_lexer": "ipython3",
   "version": "3.8.5"
  }
 },
 "nbformat": 4,
 "nbformat_minor": 5
}
